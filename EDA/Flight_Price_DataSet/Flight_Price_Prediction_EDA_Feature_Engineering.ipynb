{
  "nbformat": 4,
  "nbformat_minor": 0,
  "metadata": {
    "colab": {
      "name": "Flight Price Prediction (EDA +Feature Engineering).ipynb",
      "provenance": [],
      "authorship_tag": "ABX9TyP+gBV5ZF+iayng3Z2xn4u4",
      "include_colab_link": true
    },
    "kernelspec": {
      "name": "python3",
      "display_name": "Python 3"
    },
    "language_info": {
      "name": "python"
    }
  },
  "cells": [
    {
      "cell_type": "markdown",
      "metadata": {
        "id": "view-in-github",
        "colab_type": "text"
      },
      "source": [
        "<a href=\"https://colab.research.google.com/github/Supun004/MLRevisit/blob/main/EDA/Flight_Price_DataSet/Flight_Price_Prediction_EDA_Feature_Engineering.ipynb\" target=\"_parent\"><img src=\"https://colab.research.google.com/assets/colab-badge.svg\" alt=\"Open In Colab\"/></a>"
      ]
    },
    {
      "cell_type": "code",
      "execution_count": null,
      "metadata": {
        "id": "reEVEin7xwc6"
      },
      "outputs": [],
      "source": [
        ""
      ]
    }
  ]
}