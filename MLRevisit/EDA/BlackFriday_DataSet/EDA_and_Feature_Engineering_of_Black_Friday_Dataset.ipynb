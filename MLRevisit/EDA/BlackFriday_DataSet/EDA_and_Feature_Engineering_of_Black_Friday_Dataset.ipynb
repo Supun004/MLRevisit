{
  "nbformat": 4,
  "nbformat_minor": 0,
  "metadata": {
    "colab": {
      "name": "EDA & Feature Engineering of Black Friday Dataset.ipynb",
      "provenance": [],
      "authorship_tag": "ABX9TyP+gBV5ZF+iayng3Z2xn4u4",
      "include_colab_link": true
    },
    "kernelspec": {
      "name": "python3",
      "display_name": "Python 3"
    },
    "language_info": {
      "name": "python"
    }
  },
  "cells": [
    {
      "cell_type": "markdown",
      "metadata": {
        "id": "view-in-github",
        "colab_type": "text"
      },
      "source": [
        "<a href=\"https://colab.research.google.com/github/Supun004/MLRevisit/blob/main/MLRevisit/EDA/BlackFriday_DataSet/EDA_and_Feature_Engineering_of_Black_Friday_Dataset.ipynb\" target=\"_parent\"><img src=\"https://colab.research.google.com/assets/colab-badge.svg\" alt=\"Open In Colab\"/></a>"
      ]
    },
    {
      "cell_type": "code",
      "execution_count": null,
      "metadata": {
        "id": "0EaDiFquPWe5"
      },
      "outputs": [],
      "source": [
        ""
      ]
    }
  ]
}