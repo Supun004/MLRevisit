{
 "cells": [
  {
   "cell_type": "code",
   "execution_count": 1,
   "metadata": {},
   "outputs": [
    {
     "name": "stdout",
     "output_type": "stream",
     "text": [
      "Collecting pandas_datareader\n",
      "  Downloading pandas_datareader-0.10.0-py3-none-any.whl (109 kB)\n",
      "Requirement already satisfied: lxml in d:\\installations\\anaconda3\\lib\\site-packages (from pandas_datareader) (4.5.0)\n",
      "Requirement already satisfied: requests>=2.19.0 in d:\\installations\\anaconda3\\lib\\site-packages (from pandas_datareader) (2.23.0)\n",
      "Requirement already satisfied: pandas>=0.23 in d:\\installations\\anaconda3\\lib\\site-packages (from pandas_datareader) (1.0.2)\n",
      "Requirement already satisfied: chardet<4,>=3.0.2 in d:\\installations\\anaconda3\\lib\\site-packages (from requests>=2.19.0->pandas_datareader) (3.0.4)\n",
      "Requirement already satisfied: certifi>=2017.4.17 in d:\\installations\\anaconda3\\lib\\site-packages (from requests>=2.19.0->pandas_datareader) (2021.5.30)\n",
      "Requirement already satisfied: urllib3!=1.25.0,!=1.25.1,<1.26,>=1.21.1 in d:\\installations\\anaconda3\\lib\\site-packages (from requests>=2.19.0->pandas_datareader) (1.25.8)\n",
      "Requirement already satisfied: idna<3,>=2.5 in d:\\installations\\anaconda3\\lib\\site-packages (from requests>=2.19.0->pandas_datareader) (2.9)\n",
      "Requirement already satisfied: pytz>=2017.2 in d:\\installations\\anaconda3\\lib\\site-packages (from pandas>=0.23->pandas_datareader) (2019.3)\n",
      "Requirement already satisfied: numpy>=1.13.3 in d:\\installations\\anaconda3\\lib\\site-packages (from pandas>=0.23->pandas_datareader) (1.18.1)\n",
      "Requirement already satisfied: python-dateutil>=2.6.1 in d:\\installations\\anaconda3\\lib\\site-packages (from pandas>=0.23->pandas_datareader) (2.8.1)\n",
      "Requirement already satisfied: six>=1.5 in d:\\installations\\anaconda3\\lib\\site-packages (from python-dateutil>=2.6.1->pandas>=0.23->pandas_datareader) (1.14.0)\n",
      "Installing collected packages: pandas-datareader\n",
      "Successfully installed pandas-datareader-0.10.0\n"
     ]
    }
   ],
   "source": [
    "##install pandas Data Reader\n",
    "!pip install pandas_datareader"
   ]
  },
  {
   "cell_type": "code",
   "execution_count": 10,
   "metadata": {},
   "outputs": [],
   "source": [
    "import pandas_datareader as pdr\n",
    "import pandas as pd\n",
    "from datetime import datetime\n",
    "import matplotlib"
   ]
  },
  {
   "cell_type": "code",
   "execution_count": 5,
   "metadata": {},
   "outputs": [],
   "source": [
    "df_tesla = pdr.get_data_yahoo('TSLA')"
   ]
  },
  {
   "cell_type": "code",
   "execution_count": 6,
   "metadata": {},
   "outputs": [
    {
     "name": "stdout",
     "output_type": "stream",
     "text": [
      "<class 'pandas.core.frame.DataFrame'>\n",
      "DatetimeIndex: 1260 entries, 2017-02-27 to 2022-02-25\n",
      "Data columns (total 6 columns):\n",
      " #   Column     Non-Null Count  Dtype  \n",
      "---  ------     --------------  -----  \n",
      " 0   High       1260 non-null   float64\n",
      " 1   Low        1260 non-null   float64\n",
      " 2   Open       1260 non-null   float64\n",
      " 3   Close      1260 non-null   float64\n",
      " 4   Volume     1260 non-null   float64\n",
      " 5   Adj Close  1260 non-null   float64\n",
      "dtypes: float64(6)\n",
      "memory usage: 68.9 KB\n"
     ]
    }
   ],
   "source": [
    "df_tesla.info()"
   ]
  },
  {
   "cell_type": "code",
   "execution_count": 8,
   "metadata": {},
   "outputs": [
    {
     "data": {
      "text/html": [
       "<div>\n",
       "<style scoped>\n",
       "    .dataframe tbody tr th:only-of-type {\n",
       "        vertical-align: middle;\n",
       "    }\n",
       "\n",
       "    .dataframe tbody tr th {\n",
       "        vertical-align: top;\n",
       "    }\n",
       "\n",
       "    .dataframe thead th {\n",
       "        text-align: right;\n",
       "    }\n",
       "</style>\n",
       "<table border=\"1\" class=\"dataframe\">\n",
       "  <thead>\n",
       "    <tr style=\"text-align: right;\">\n",
       "      <th></th>\n",
       "      <th>High</th>\n",
       "      <th>Low</th>\n",
       "      <th>Open</th>\n",
       "      <th>Close</th>\n",
       "      <th>Volume</th>\n",
       "      <th>Adj Close</th>\n",
       "    </tr>\n",
       "    <tr>\n",
       "      <th>Date</th>\n",
       "      <th></th>\n",
       "      <th></th>\n",
       "      <th></th>\n",
       "      <th></th>\n",
       "      <th></th>\n",
       "      <th></th>\n",
       "    </tr>\n",
       "  </thead>\n",
       "  <tbody>\n",
       "    <tr>\n",
       "      <th>2017-02-27</th>\n",
       "      <td>49.672001</td>\n",
       "      <td>48.402000</td>\n",
       "      <td>49.633999</td>\n",
       "      <td>49.245998</td>\n",
       "      <td>57304000.0</td>\n",
       "      <td>49.245998</td>\n",
       "    </tr>\n",
       "    <tr>\n",
       "      <th>2017-02-28</th>\n",
       "      <td>50.200001</td>\n",
       "      <td>48.779999</td>\n",
       "      <td>48.838001</td>\n",
       "      <td>49.998001</td>\n",
       "      <td>30390500.0</td>\n",
       "      <td>49.998001</td>\n",
       "    </tr>\n",
       "    <tr>\n",
       "      <th>2017-03-01</th>\n",
       "      <td>50.970001</td>\n",
       "      <td>49.821999</td>\n",
       "      <td>50.835999</td>\n",
       "      <td>50.004002</td>\n",
       "      <td>24047500.0</td>\n",
       "      <td>50.004002</td>\n",
       "    </tr>\n",
       "    <tr>\n",
       "      <th>2017-03-02</th>\n",
       "      <td>50.655998</td>\n",
       "      <td>49.653999</td>\n",
       "      <td>49.942001</td>\n",
       "      <td>50.096001</td>\n",
       "      <td>16759000.0</td>\n",
       "      <td>50.096001</td>\n",
       "    </tr>\n",
       "    <tr>\n",
       "      <th>2017-03-03</th>\n",
       "      <td>50.380001</td>\n",
       "      <td>49.799999</td>\n",
       "      <td>50.147999</td>\n",
       "      <td>50.313999</td>\n",
       "      <td>14597000.0</td>\n",
       "      <td>50.313999</td>\n",
       "    </tr>\n",
       "  </tbody>\n",
       "</table>\n",
       "</div>"
      ],
      "text/plain": [
       "                 High        Low       Open      Close      Volume  Adj Close\n",
       "Date                                                                         \n",
       "2017-02-27  49.672001  48.402000  49.633999  49.245998  57304000.0  49.245998\n",
       "2017-02-28  50.200001  48.779999  48.838001  49.998001  30390500.0  49.998001\n",
       "2017-03-01  50.970001  49.821999  50.835999  50.004002  24047500.0  50.004002\n",
       "2017-03-02  50.655998  49.653999  49.942001  50.096001  16759000.0  50.096001\n",
       "2017-03-03  50.380001  49.799999  50.147999  50.313999  14597000.0  50.313999"
      ]
     },
     "execution_count": 8,
     "metadata": {},
     "output_type": "execute_result"
    }
   ],
   "source": [
    "df_tesla.head()"
   ]
  },
  {
   "cell_type": "code",
   "execution_count": 11,
   "metadata": {},
   "outputs": [
    {
     "data": {
      "text/plain": [
       "<matplotlib.axes._subplots.AxesSubplot at 0x24b50baa2c8>"
      ]
     },
     "execution_count": 11,
     "metadata": {},
     "output_type": "execute_result"
    },
    {
     "data": {
      "image/png": "[encoded data removed]",
      "text/plain": [
       "<Figure size 864x432 with 1 Axes>"
      ]
     },
     "metadata": {
      "needs_background": "light"
     },
     "output_type": "display_data"
    }
   ],
   "source": [
    "matplotlib.rcParams['figure.figsize'] = (12, 6)\n",
    "df_tesla.plot()"
   ]
  },
  {
   "cell_type": "code",
   "execution_count": 15,
   "metadata": {},
   "outputs": [
    {
     "data": {
      "text/plain": [
       "<matplotlib.axes._subplots.AxesSubplot at 0x24b537f8c08>"
      ]
     },
     "execution_count": 15,
     "metadata": {},
     "output_type": "execute_result"
    },
    {
     "data": {
      "image/png": "[encoded data removed]",
      "text/plain": [
       "<Figure size 864x288 with 1 Axes>"
      ]
     },
     "metadata": {
      "needs_background": "light"
     },
     "output_type": "display_data"
    }
   ],
   "source": [
    "df_tesla.High.plot(figsize=(12,4))"
   ]
  },
  {
   "cell_type": "code",
   "execution_count": 20,
   "metadata": {},
   "outputs": [
    {
     "data": {
      "text/plain": [
       "<matplotlib.axes._subplots.AxesSubplot at 0x24b53837b48>"
      ]
     },
     "execution_count": 20,
     "metadata": {},
     "output_type": "execute_result"
    },
    {
     "data": {
      "image/png": "[encoded data removed]",
      "text/plain": [
       "<Figure size 864x288 with 1 Axes>"
      ]
     },
     "metadata": {
      "needs_background": "light"
     },
     "output_type": "display_data"
    }
   ],
   "source": [
    "## xlimit and ylimit\n",
    "\n",
    "df_tesla.High.plot(xlim=['2020-01-01', '2021-09-01'], ylim=[0,900], figsize=(12,4), ls='--', c='green') "
   ]
  },
  {
   "cell_type": "code",
   "execution_count": 24,
   "metadata": {},
   "outputs": [
    {
     "data": {
      "text/plain": [
       "DatetimeIndex(['2017-02-27', '2017-02-28', '2017-03-01', '2017-03-02',\n",
       "               '2017-03-03', '2017-03-06', '2017-03-07', '2017-03-08',\n",
       "               '2017-03-09', '2017-03-10',\n",
       "               ...\n",
       "               '2022-02-11', '2022-02-14', '2022-02-15', '2022-02-16',\n",
       "               '2022-02-17', '2022-02-18', '2022-02-22', '2022-02-23',\n",
       "               '2022-02-24', '2022-02-25'],\n",
       "              dtype='datetime64[ns]', name='Date', length=1260, freq=None)"
      ]
     },
     "execution_count": 24,
     "metadata": {},
     "output_type": "execute_result"
    }
   ],
   "source": [
    "df_tesla.index"
   ]
  },
  {
   "cell_type": "code",
   "execution_count": 35,
   "metadata": {},
   "outputs": [],
   "source": [
    "index = df_tesla.loc['2020-01-01':'2021-09-01'].index\n",
    "share_open = df_tesla.loc['2020-01-01':'2021-09-01']['Open']"
   ]
  },
  {
   "cell_type": "code",
   "execution_count": 36,
   "metadata": {},
   "outputs": [
    {
     "data": {
      "text/plain": [
       "Date\n",
       "2020-01-02     84.900002\n",
       "2020-01-03     88.099998\n",
       "2020-01-06     88.094002\n",
       "2020-01-07     92.279999\n",
       "2020-01-08     94.739998\n",
       "                 ...    \n",
       "2021-08-26    708.309998\n",
       "2021-08-27    705.000000\n",
       "2021-08-30    714.719971\n",
       "2021-08-31    733.000000\n",
       "2021-09-01    734.080017\n",
       "Name: Open, Length: 421, dtype: float64"
      ]
     },
     "execution_count": 36,
     "metadata": {},
     "output_type": "execute_result"
    }
   ],
   "source": [
    "share_open"
   ]
  },
  {
   "cell_type": "code",
   "execution_count": 37,
   "metadata": {},
   "outputs": [],
   "source": [
    "import matplotlib.pyplot as plt\n",
    "%matplotlib inline"
   ]
  },
  {
   "cell_type": "code",
   "execution_count": 40,
   "metadata": {},
   "outputs": [
    {
     "data": {
      "text/plain": [
       "[<matplotlib.lines.Line2D at 0x24b51f5c148>]"
      ]
     },
     "execution_count": 40,
     "metadata": {},
     "output_type": "execute_result"
    },
    {
     "data": {
      "image/png": "[encoded data removed]",
      "text/plain": [
       "<Figure size 432x288 with 1 Axes>"
      ]
     },
     "metadata": {
      "needs_background": "light"
     },
     "output_type": "display_data"
    }
   ],
   "source": [
    "figure, axis= plt.subplots()\n",
    "plt.tight_layout()\n",
    "## Preventing overlapping\n",
    "figure.autofmt_xdate()\n",
    "axis.plot(index, share_open)"
   ]
  },
  {
   "cell_type": "code",
   "execution_count": 41,
   "metadata": {},
   "outputs": [
    {
     "name": "stdout",
     "output_type": "stream",
     "text": [
      "<class 'pandas.core.frame.DataFrame'>\n",
      "DatetimeIndex: 1260 entries, 2017-02-27 to 2022-02-25\n",
      "Data columns (total 6 columns):\n",
      " #   Column     Non-Null Count  Dtype  \n",
      "---  ------     --------------  -----  \n",
      " 0   High       1260 non-null   float64\n",
      " 1   Low        1260 non-null   float64\n",
      " 2   Open       1260 non-null   float64\n",
      " 3   Close      1260 non-null   float64\n",
      " 4   Volume     1260 non-null   float64\n",
      " 5   Adj Close  1260 non-null   float64\n",
      "dtypes: float64(6)\n",
      "memory usage: 108.9 KB\n"
     ]
    }
   ],
   "source": [
    "df_tesla.info()"
   ]
  },
  {
   "cell_type": "code",
   "execution_count": 43,
   "metadata": {},
   "outputs": [],
   "source": [
    "df_tesla = df_tesla.reset_index()"
   ]
  },
  {
   "cell_type": "code",
   "execution_count": 44,
   "metadata": {},
   "outputs": [
    {
     "name": "stdout",
     "output_type": "stream",
     "text": [
      "<class 'pandas.core.frame.DataFrame'>\n",
      "RangeIndex: 1260 entries, 0 to 1259\n",
      "Data columns (total 7 columns):\n",
      " #   Column     Non-Null Count  Dtype         \n",
      "---  ------     --------------  -----         \n",
      " 0   Date       1260 non-null   datetime64[ns]\n",
      " 1   High       1260 non-null   float64       \n",
      " 2   Low        1260 non-null   float64       \n",
      " 3   Open       1260 non-null   float64       \n",
      " 4   Close      1260 non-null   float64       \n",
      " 5   Volume     1260 non-null   float64       \n",
      " 6   Adj Close  1260 non-null   float64       \n",
      "dtypes: datetime64[ns](1), float64(6)\n",
      "memory usage: 69.0 KB\n"
     ]
    }
   ],
   "source": [
    "df_tesla.info()"
   ]
  },
  {
   "cell_type": "code",
   "execution_count": 47,
   "metadata": {},
   "outputs": [],
   "source": [
    "df_tesla = df_tesla.set_index('Date', drop=True)"
   ]
  },
  {
   "cell_type": "code",
   "execution_count": 48,
   "metadata": {},
   "outputs": [
    {
     "data": {
      "text/html": [
       "<div>\n",
       "<style scoped>\n",
       "    .dataframe tbody tr th:only-of-type {\n",
       "        vertical-align: middle;\n",
       "    }\n",
       "\n",
       "    .dataframe tbody tr th {\n",
       "        vertical-align: top;\n",
       "    }\n",
       "\n",
       "    .dataframe thead th {\n",
       "        text-align: right;\n",
       "    }\n",
       "</style>\n",
       "<table border=\"1\" class=\"dataframe\">\n",
       "  <thead>\n",
       "    <tr style=\"text-align: right;\">\n",
       "      <th></th>\n",
       "      <th>High</th>\n",
       "      <th>Low</th>\n",
       "      <th>Open</th>\n",
       "      <th>Close</th>\n",
       "      <th>Volume</th>\n",
       "      <th>Adj Close</th>\n",
       "    </tr>\n",
       "    <tr>\n",
       "      <th>Date</th>\n",
       "      <th></th>\n",
       "      <th></th>\n",
       "      <th></th>\n",
       "      <th></th>\n",
       "      <th></th>\n",
       "      <th></th>\n",
       "    </tr>\n",
       "  </thead>\n",
       "  <tbody>\n",
       "    <tr>\n",
       "      <th>2017-02-27</th>\n",
       "      <td>49.672001</td>\n",
       "      <td>48.402000</td>\n",
       "      <td>49.633999</td>\n",
       "      <td>49.245998</td>\n",
       "      <td>57304000.0</td>\n",
       "      <td>49.245998</td>\n",
       "    </tr>\n",
       "    <tr>\n",
       "      <th>2017-02-28</th>\n",
       "      <td>50.200001</td>\n",
       "      <td>48.779999</td>\n",
       "      <td>48.838001</td>\n",
       "      <td>49.998001</td>\n",
       "      <td>30390500.0</td>\n",
       "      <td>49.998001</td>\n",
       "    </tr>\n",
       "    <tr>\n",
       "      <th>2017-03-01</th>\n",
       "      <td>50.970001</td>\n",
       "      <td>49.821999</td>\n",
       "      <td>50.835999</td>\n",
       "      <td>50.004002</td>\n",
       "      <td>24047500.0</td>\n",
       "      <td>50.004002</td>\n",
       "    </tr>\n",
       "    <tr>\n",
       "      <th>2017-03-02</th>\n",
       "      <td>50.655998</td>\n",
       "      <td>49.653999</td>\n",
       "      <td>49.942001</td>\n",
       "      <td>50.096001</td>\n",
       "      <td>16759000.0</td>\n",
       "      <td>50.096001</td>\n",
       "    </tr>\n",
       "    <tr>\n",
       "      <th>2017-03-03</th>\n",
       "      <td>50.380001</td>\n",
       "      <td>49.799999</td>\n",
       "      <td>50.147999</td>\n",
       "      <td>50.313999</td>\n",
       "      <td>14597000.0</td>\n",
       "      <td>50.313999</td>\n",
       "    </tr>\n",
       "  </tbody>\n",
       "</table>\n",
       "</div>"
      ],
      "text/plain": [
       "                 High        Low       Open      Close      Volume  Adj Close\n",
       "Date                                                                         \n",
       "2017-02-27  49.672001  48.402000  49.633999  49.245998  57304000.0  49.245998\n",
       "2017-02-28  50.200001  48.779999  48.838001  49.998001  30390500.0  49.998001\n",
       "2017-03-01  50.970001  49.821999  50.835999  50.004002  24047500.0  50.004002\n",
       "2017-03-02  50.655998  49.653999  49.942001  50.096001  16759000.0  50.096001\n",
       "2017-03-03  50.380001  49.799999  50.147999  50.313999  14597000.0  50.313999"
      ]
     },
     "execution_count": 48,
     "metadata": {},
     "output_type": "execute_result"
    }
   ],
   "source": [
    "df_tesla.head()"
   ]
  },
  {
   "cell_type": "code",
   "execution_count": 49,
   "metadata": {},
   "outputs": [],
   "source": [
    "from datetime import datetime"
   ]
  },
  {
   "cell_type": "code",
   "execution_count": 52,
   "metadata": {},
   "outputs": [],
   "source": [
    "date = datetime(2021,11,21)"
   ]
  },
  {
   "cell_type": "code",
   "execution_count": 51,
   "metadata": {},
   "outputs": [
    {
     "data": {
      "text/plain": [
       "datetime.datetime(2022, 2, 26, 17, 55, 24, 109539)"
      ]
     },
     "execution_count": 51,
     "metadata": {},
     "output_type": "execute_result"
    }
   ],
   "source": [
    "datetime.now()"
   ]
  },
  {
   "cell_type": "code",
   "execution_count": 58,
   "metadata": {},
   "outputs": [
    {
     "data": {
      "text/plain": [
       "6"
      ]
     },
     "execution_count": 58,
     "metadata": {},
     "output_type": "execute_result"
    }
   ],
   "source": [
    "date.weekday()"
   ]
  },
  {
   "cell_type": "markdown",
   "metadata": {},
   "source": [
    "## Time Resampling"
   ]
  },
  {
   "cell_type": "code",
   "execution_count": 59,
   "metadata": {},
   "outputs": [
    {
     "data": {
      "text/html": [
       "<div>\n",
       "<style scoped>\n",
       "    .dataframe tbody tr th:only-of-type {\n",
       "        vertical-align: middle;\n",
       "    }\n",
       "\n",
       "    .dataframe tbody tr th {\n",
       "        vertical-align: top;\n",
       "    }\n",
       "\n",
       "    .dataframe thead th {\n",
       "        text-align: right;\n",
       "    }\n",
       "</style>\n",
       "<table border=\"1\" class=\"dataframe\">\n",
       "  <thead>\n",
       "    <tr style=\"text-align: right;\">\n",
       "      <th></th>\n",
       "      <th>High</th>\n",
       "      <th>Low</th>\n",
       "      <th>Open</th>\n",
       "      <th>Close</th>\n",
       "      <th>Volume</th>\n",
       "      <th>Adj Close</th>\n",
       "    </tr>\n",
       "    <tr>\n",
       "      <th>Date</th>\n",
       "      <th></th>\n",
       "      <th></th>\n",
       "      <th></th>\n",
       "      <th></th>\n",
       "      <th></th>\n",
       "      <th></th>\n",
       "    </tr>\n",
       "  </thead>\n",
       "  <tbody>\n",
       "    <tr>\n",
       "      <th>2017-02-27</th>\n",
       "      <td>49.672001</td>\n",
       "      <td>48.402000</td>\n",
       "      <td>49.633999</td>\n",
       "      <td>49.245998</td>\n",
       "      <td>57304000.0</td>\n",
       "      <td>49.245998</td>\n",
       "    </tr>\n",
       "    <tr>\n",
       "      <th>2017-02-28</th>\n",
       "      <td>50.200001</td>\n",
       "      <td>48.779999</td>\n",
       "      <td>48.838001</td>\n",
       "      <td>49.998001</td>\n",
       "      <td>30390500.0</td>\n",
       "      <td>49.998001</td>\n",
       "    </tr>\n",
       "    <tr>\n",
       "      <th>2017-03-01</th>\n",
       "      <td>50.970001</td>\n",
       "      <td>49.821999</td>\n",
       "      <td>50.835999</td>\n",
       "      <td>50.004002</td>\n",
       "      <td>24047500.0</td>\n",
       "      <td>50.004002</td>\n",
       "    </tr>\n",
       "    <tr>\n",
       "      <th>2017-03-02</th>\n",
       "      <td>50.655998</td>\n",
       "      <td>49.653999</td>\n",
       "      <td>49.942001</td>\n",
       "      <td>50.096001</td>\n",
       "      <td>16759000.0</td>\n",
       "      <td>50.096001</td>\n",
       "    </tr>\n",
       "    <tr>\n",
       "      <th>2017-03-03</th>\n",
       "      <td>50.380001</td>\n",
       "      <td>49.799999</td>\n",
       "      <td>50.147999</td>\n",
       "      <td>50.313999</td>\n",
       "      <td>14597000.0</td>\n",
       "      <td>50.313999</td>\n",
       "    </tr>\n",
       "  </tbody>\n",
       "</table>\n",
       "</div>"
      ],
      "text/plain": [
       "                 High        Low       Open      Close      Volume  Adj Close\n",
       "Date                                                                         \n",
       "2017-02-27  49.672001  48.402000  49.633999  49.245998  57304000.0  49.245998\n",
       "2017-02-28  50.200001  48.779999  48.838001  49.998001  30390500.0  49.998001\n",
       "2017-03-01  50.970001  49.821999  50.835999  50.004002  24047500.0  50.004002\n",
       "2017-03-02  50.655998  49.653999  49.942001  50.096001  16759000.0  50.096001\n",
       "2017-03-03  50.380001  49.799999  50.147999  50.313999  14597000.0  50.313999"
      ]
     },
     "execution_count": 59,
     "metadata": {},
     "output_type": "execute_result"
    }
   ],
   "source": [
    "df_tesla.head()"
   ]
  },
  {
   "cell_type": "code",
   "execution_count": 61,
   "metadata": {},
   "outputs": [
    {
     "data": {
      "text/html": [
       "<div>\n",
       "<style scoped>\n",
       "    .dataframe tbody tr th:only-of-type {\n",
       "        vertical-align: middle;\n",
       "    }\n",
       "\n",
       "    .dataframe tbody tr th {\n",
       "        vertical-align: top;\n",
       "    }\n",
       "\n",
       "    .dataframe thead th {\n",
       "        text-align: right;\n",
       "    }\n",
       "</style>\n",
       "<table border=\"1\" class=\"dataframe\">\n",
       "  <thead>\n",
       "    <tr style=\"text-align: right;\">\n",
       "      <th></th>\n",
       "      <th>High</th>\n",
       "      <th>Low</th>\n",
       "      <th>Open</th>\n",
       "      <th>Close</th>\n",
       "      <th>Volume</th>\n",
       "      <th>Adj Close</th>\n",
       "    </tr>\n",
       "    <tr>\n",
       "      <th>Date</th>\n",
       "      <th></th>\n",
       "      <th></th>\n",
       "      <th></th>\n",
       "      <th></th>\n",
       "      <th></th>\n",
       "      <th></th>\n",
       "    </tr>\n",
       "  </thead>\n",
       "  <tbody>\n",
       "    <tr>\n",
       "      <th>2017-12-31</th>\n",
       "      <td>77.921997</td>\n",
       "      <td>75.870003</td>\n",
       "      <td>77.337997</td>\n",
       "      <td>77.000000</td>\n",
       "      <td>98957000.0</td>\n",
       "      <td>77.000000</td>\n",
       "    </tr>\n",
       "    <tr>\n",
       "      <th>2018-12-31</th>\n",
       "      <td>77.491997</td>\n",
       "      <td>73.424004</td>\n",
       "      <td>75.000000</td>\n",
       "      <td>75.914001</td>\n",
       "      <td>168248500.0</td>\n",
       "      <td>75.914001</td>\n",
       "    </tr>\n",
       "    <tr>\n",
       "      <th>2019-12-31</th>\n",
       "      <td>87.061996</td>\n",
       "      <td>85.269997</td>\n",
       "      <td>87.000000</td>\n",
       "      <td>86.188004</td>\n",
       "      <td>150030500.0</td>\n",
       "      <td>86.188004</td>\n",
       "    </tr>\n",
       "    <tr>\n",
       "      <th>2020-12-31</th>\n",
       "      <td>718.719971</td>\n",
       "      <td>691.119995</td>\n",
       "      <td>699.989990</td>\n",
       "      <td>705.669983</td>\n",
       "      <td>304694000.0</td>\n",
       "      <td>705.669983</td>\n",
       "    </tr>\n",
       "    <tr>\n",
       "      <th>2021-12-31</th>\n",
       "      <td>1243.489990</td>\n",
       "      <td>1217.000000</td>\n",
       "      <td>1234.410034</td>\n",
       "      <td>1229.910034</td>\n",
       "      <td>89396500.0</td>\n",
       "      <td>1229.910034</td>\n",
       "    </tr>\n",
       "    <tr>\n",
       "      <th>2022-12-31</th>\n",
       "      <td>1208.000000</td>\n",
       "      <td>1136.040039</td>\n",
       "      <td>1189.550049</td>\n",
       "      <td>1199.780029</td>\n",
       "      <td>50521900.0</td>\n",
       "      <td>1199.780029</td>\n",
       "    </tr>\n",
       "  </tbody>\n",
       "</table>\n",
       "</div>"
      ],
      "text/plain": [
       "                   High          Low         Open        Close       Volume  \\\n",
       "Date                                                                          \n",
       "2017-12-31    77.921997    75.870003    77.337997    77.000000   98957000.0   \n",
       "2018-12-31    77.491997    73.424004    75.000000    75.914001  168248500.0   \n",
       "2019-12-31    87.061996    85.269997    87.000000    86.188004  150030500.0   \n",
       "2020-12-31   718.719971   691.119995   699.989990   705.669983  304694000.0   \n",
       "2021-12-31  1243.489990  1217.000000  1234.410034  1229.910034   89396500.0   \n",
       "2022-12-31  1208.000000  1136.040039  1189.550049  1199.780029   50521900.0   \n",
       "\n",
       "              Adj Close  \n",
       "Date                     \n",
       "2017-12-31    77.000000  \n",
       "2018-12-31    75.914001  \n",
       "2019-12-31    86.188004  \n",
       "2020-12-31   705.669983  \n",
       "2021-12-31  1229.910034  \n",
       "2022-12-31  1199.780029  "
      ]
     },
     "execution_count": 61,
     "metadata": {},
     "output_type": "execute_result"
    }
   ],
   "source": [
    "## Year end frequency => rule = A\n",
    "df_tesla.resample(rule='A').max()"
   ]
  },
  {
   "cell_type": "code",
   "execution_count": 66,
   "metadata": {},
   "outputs": [
    {
     "data": {
      "text/plain": [
       "<matplotlib.axes._subplots.AxesSubplot at 0x24b55262108>"
      ]
     },
     "execution_count": 66,
     "metadata": {},
     "output_type": "execute_result"
    },
    {
     "data": {
      "image/png": "[encoded data removed]",
      "text/plain": [
       "<Figure size 432x288 with 1 Axes>"
      ]
     },
     "metadata": {
      "needs_background": "light"
     },
     "output_type": "display_data"
    }
   ],
   "source": [
    "## Quaterly \n",
    "df_tesla.resample(rule='QS').max()['High'].plot()"
   ]
  },
  {
   "cell_type": "code",
   "execution_count": 69,
   "metadata": {},
   "outputs": [
    {
     "data": {
      "text/html": [
       "<div>\n",
       "<style scoped>\n",
       "    .dataframe tbody tr th:only-of-type {\n",
       "        vertical-align: middle;\n",
       "    }\n",
       "\n",
       "    .dataframe tbody tr th {\n",
       "        vertical-align: top;\n",
       "    }\n",
       "\n",
       "    .dataframe thead th {\n",
       "        text-align: right;\n",
       "    }\n",
       "</style>\n",
       "<table border=\"1\" class=\"dataframe\">\n",
       "  <thead>\n",
       "    <tr style=\"text-align: right;\">\n",
       "      <th></th>\n",
       "      <th>High</th>\n",
       "      <th>Low</th>\n",
       "      <th>Open</th>\n",
       "      <th>Close</th>\n",
       "      <th>Volume</th>\n",
       "      <th>Adj Close</th>\n",
       "    </tr>\n",
       "    <tr>\n",
       "      <th>Date</th>\n",
       "      <th></th>\n",
       "      <th></th>\n",
       "      <th></th>\n",
       "      <th></th>\n",
       "      <th></th>\n",
       "      <th></th>\n",
       "    </tr>\n",
       "  </thead>\n",
       "  <tbody>\n",
       "    <tr>\n",
       "      <th>2017-12-29</th>\n",
       "      <td>77.921997</td>\n",
       "      <td>75.870003</td>\n",
       "      <td>77.337997</td>\n",
       "      <td>77.000000</td>\n",
       "      <td>98957000.0</td>\n",
       "      <td>77.000000</td>\n",
       "    </tr>\n",
       "    <tr>\n",
       "      <th>2018-12-31</th>\n",
       "      <td>77.491997</td>\n",
       "      <td>73.424004</td>\n",
       "      <td>75.000000</td>\n",
       "      <td>75.914001</td>\n",
       "      <td>168248500.0</td>\n",
       "      <td>75.914001</td>\n",
       "    </tr>\n",
       "    <tr>\n",
       "      <th>2019-12-31</th>\n",
       "      <td>87.061996</td>\n",
       "      <td>85.269997</td>\n",
       "      <td>87.000000</td>\n",
       "      <td>86.188004</td>\n",
       "      <td>150030500.0</td>\n",
       "      <td>86.188004</td>\n",
       "    </tr>\n",
       "    <tr>\n",
       "      <th>2020-12-31</th>\n",
       "      <td>718.719971</td>\n",
       "      <td>691.119995</td>\n",
       "      <td>699.989990</td>\n",
       "      <td>705.669983</td>\n",
       "      <td>304694000.0</td>\n",
       "      <td>705.669983</td>\n",
       "    </tr>\n",
       "    <tr>\n",
       "      <th>2021-12-31</th>\n",
       "      <td>1243.489990</td>\n",
       "      <td>1217.000000</td>\n",
       "      <td>1234.410034</td>\n",
       "      <td>1229.910034</td>\n",
       "      <td>89396500.0</td>\n",
       "      <td>1229.910034</td>\n",
       "    </tr>\n",
       "    <tr>\n",
       "      <th>2022-12-30</th>\n",
       "      <td>1208.000000</td>\n",
       "      <td>1136.040039</td>\n",
       "      <td>1189.550049</td>\n",
       "      <td>1199.780029</td>\n",
       "      <td>50521900.0</td>\n",
       "      <td>1199.780029</td>\n",
       "    </tr>\n",
       "  </tbody>\n",
       "</table>\n",
       "</div>"
      ],
      "text/plain": [
       "                   High          Low         Open        Close       Volume  \\\n",
       "Date                                                                          \n",
       "2017-12-29    77.921997    75.870003    77.337997    77.000000   98957000.0   \n",
       "2018-12-31    77.491997    73.424004    75.000000    75.914001  168248500.0   \n",
       "2019-12-31    87.061996    85.269997    87.000000    86.188004  150030500.0   \n",
       "2020-12-31   718.719971   691.119995   699.989990   705.669983  304694000.0   \n",
       "2021-12-31  1243.489990  1217.000000  1234.410034  1229.910034   89396500.0   \n",
       "2022-12-30  1208.000000  1136.040039  1189.550049  1199.780029   50521900.0   \n",
       "\n",
       "              Adj Close  \n",
       "Date                     \n",
       "2017-12-29    77.000000  \n",
       "2018-12-31    75.914001  \n",
       "2019-12-31    86.188004  \n",
       "2020-12-31   705.669983  \n",
       "2021-12-31  1229.910034  \n",
       "2022-12-30  1199.780029  "
      ]
     },
     "execution_count": 69,
     "metadata": {},
     "output_type": "execute_result"
    }
   ],
   "source": [
    "## Bussiness End Frequency\n",
    "df_tesla.resample(rule='BA').max()"
   ]
  },
  {
   "cell_type": "code",
   "execution_count": 71,
   "metadata": {},
   "outputs": [
    {
     "data": {
      "text/plain": [
       "<matplotlib.axes._subplots.AxesSubplot at 0x24b55232bc8>"
      ]
     },
     "execution_count": 71,
     "metadata": {},
     "output_type": "execute_result"
    },
    {
     "data": {
      "image/png": "[encoded data removed]",
      "text/plain": [
       "<Figure size 432x288 with 1 Axes>"
      ]
     },
     "metadata": {
      "needs_background": "light"
     },
     "output_type": "display_data"
    }
   ],
   "source": [
    "df_tesla['Open'].resample(rule='BA').mean().plot(kind='bar')"
   ]
  },
  {
   "cell_type": "code",
   "execution_count": 74,
   "metadata": {},
   "outputs": [
    {
     "data": {
      "text/plain": [
       "<matplotlib.axes._subplots.AxesSubplot at 0x24b5579b848>"
      ]
     },
     "execution_count": 74,
     "metadata": {},
     "output_type": "execute_result"
    },
    {
     "data": {
      "image/png": "[encoded data removed]",
      "text/plain": [
       "<Figure size 1080x432 with 1 Axes>"
      ]
     },
     "metadata": {
      "needs_background": "light"
     },
     "output_type": "display_data"
    }
   ],
   "source": [
    "df_tesla['Open'].resample(rule='M').max().plot(kind='bar', figsize=(15,6))"
   ]
  },
  {
   "cell_type": "code",
   "execution_count": 78,
   "metadata": {},
   "outputs": [
    {
     "data": {
      "text/plain": [
       "Date\n",
       "2017-02-27        NaN\n",
       "2017-02-28        NaN\n",
       "2017-03-01        NaN\n",
       "2017-03-02        NaN\n",
       "2017-03-03        NaN\n",
       "2017-03-06        NaN\n",
       "2017-03-07        NaN\n",
       "2017-03-08        NaN\n",
       "2017-03-09        NaN\n",
       "2017-03-10    50.2042\n",
       "2017-03-13    50.1740\n",
       "2017-03-14    50.3164\n",
       "2017-03-15    50.4394\n",
       "2017-03-16    50.6888\n",
       "2017-03-17    50.9574\n",
       "2017-03-20    51.2144\n",
       "2017-03-21    51.4326\n",
       "2017-03-22    51.5326\n",
       "2017-03-23    51.7128\n",
       "2017-03-24    52.0606\n",
       "Name: High, dtype: float64"
      ]
     },
     "execution_count": 78,
     "metadata": {},
     "output_type": "execute_result"
    }
   ],
   "source": [
    "df_tesla['High'].rolling(10).mean().head(20)"
   ]
  },
  {
   "cell_type": "code",
   "execution_count": 80,
   "metadata": {},
   "outputs": [],
   "source": [
    "df_tesla['Open:30 days rolling'] = df_tesla['Open'].rolling(30).mean()"
   ]
  },
  {
   "cell_type": "code",
   "execution_count": 82,
   "metadata": {},
   "outputs": [
    {
     "data": {
      "text/html": [
       "<div>\n",
       "<style scoped>\n",
       "    .dataframe tbody tr th:only-of-type {\n",
       "        vertical-align: middle;\n",
       "    }\n",
       "\n",
       "    .dataframe tbody tr th {\n",
       "        vertical-align: top;\n",
       "    }\n",
       "\n",
       "    .dataframe thead th {\n",
       "        text-align: right;\n",
       "    }\n",
       "</style>\n",
       "<table border=\"1\" class=\"dataframe\">\n",
       "  <thead>\n",
       "    <tr style=\"text-align: right;\">\n",
       "      <th></th>\n",
       "      <th>High</th>\n",
       "      <th>Low</th>\n",
       "      <th>Open</th>\n",
       "      <th>Close</th>\n",
       "      <th>Volume</th>\n",
       "      <th>Adj Close</th>\n",
       "      <th>Open:30 days rolling</th>\n",
       "    </tr>\n",
       "    <tr>\n",
       "      <th>Date</th>\n",
       "      <th></th>\n",
       "      <th></th>\n",
       "      <th></th>\n",
       "      <th></th>\n",
       "      <th></th>\n",
       "      <th></th>\n",
       "      <th></th>\n",
       "    </tr>\n",
       "  </thead>\n",
       "  <tbody>\n",
       "    <tr>\n",
       "      <th>2017-02-27</th>\n",
       "      <td>49.672001</td>\n",
       "      <td>48.402000</td>\n",
       "      <td>49.633999</td>\n",
       "      <td>49.245998</td>\n",
       "      <td>57304000.0</td>\n",
       "      <td>49.245998</td>\n",
       "      <td>NaN</td>\n",
       "    </tr>\n",
       "    <tr>\n",
       "      <th>2017-02-28</th>\n",
       "      <td>50.200001</td>\n",
       "      <td>48.779999</td>\n",
       "      <td>48.838001</td>\n",
       "      <td>49.998001</td>\n",
       "      <td>30390500.0</td>\n",
       "      <td>49.998001</td>\n",
       "      <td>NaN</td>\n",
       "    </tr>\n",
       "    <tr>\n",
       "      <th>2017-03-01</th>\n",
       "      <td>50.970001</td>\n",
       "      <td>49.821999</td>\n",
       "      <td>50.835999</td>\n",
       "      <td>50.004002</td>\n",
       "      <td>24047500.0</td>\n",
       "      <td>50.004002</td>\n",
       "      <td>NaN</td>\n",
       "    </tr>\n",
       "    <tr>\n",
       "      <th>2017-03-02</th>\n",
       "      <td>50.655998</td>\n",
       "      <td>49.653999</td>\n",
       "      <td>49.942001</td>\n",
       "      <td>50.096001</td>\n",
       "      <td>16759000.0</td>\n",
       "      <td>50.096001</td>\n",
       "      <td>NaN</td>\n",
       "    </tr>\n",
       "    <tr>\n",
       "      <th>2017-03-03</th>\n",
       "      <td>50.380001</td>\n",
       "      <td>49.799999</td>\n",
       "      <td>50.147999</td>\n",
       "      <td>50.313999</td>\n",
       "      <td>14597000.0</td>\n",
       "      <td>50.313999</td>\n",
       "      <td>NaN</td>\n",
       "    </tr>\n",
       "    <tr>\n",
       "      <th>2017-03-06</th>\n",
       "      <td>50.340000</td>\n",
       "      <td>49.501999</td>\n",
       "      <td>49.582001</td>\n",
       "      <td>50.242001</td>\n",
       "      <td>16777500.0</td>\n",
       "      <td>50.242001</td>\n",
       "      <td>NaN</td>\n",
       "    </tr>\n",
       "    <tr>\n",
       "      <th>2017-03-07</th>\n",
       "      <td>50.778000</td>\n",
       "      <td>49.664001</td>\n",
       "      <td>50.383999</td>\n",
       "      <td>49.717999</td>\n",
       "      <td>17297500.0</td>\n",
       "      <td>49.717999</td>\n",
       "      <td>NaN</td>\n",
       "    </tr>\n",
       "    <tr>\n",
       "      <th>2017-03-08</th>\n",
       "      <td>50.014000</td>\n",
       "      <td>49.063999</td>\n",
       "      <td>49.400002</td>\n",
       "      <td>49.374001</td>\n",
       "      <td>18626000.0</td>\n",
       "      <td>49.374001</td>\n",
       "      <td>NaN</td>\n",
       "    </tr>\n",
       "    <tr>\n",
       "      <th>2017-03-09</th>\n",
       "      <td>49.731998</td>\n",
       "      <td>48.599998</td>\n",
       "      <td>49.526001</td>\n",
       "      <td>48.980000</td>\n",
       "      <td>19396500.0</td>\n",
       "      <td>48.980000</td>\n",
       "      <td>NaN</td>\n",
       "    </tr>\n",
       "    <tr>\n",
       "      <th>2017-03-10</th>\n",
       "      <td>49.299999</td>\n",
       "      <td>48.599998</td>\n",
       "      <td>49.242001</td>\n",
       "      <td>48.737999</td>\n",
       "      <td>15331500.0</td>\n",
       "      <td>48.737999</td>\n",
       "      <td>NaN</td>\n",
       "    </tr>\n",
       "    <tr>\n",
       "      <th>2017-03-13</th>\n",
       "      <td>49.369999</td>\n",
       "      <td>48.556000</td>\n",
       "      <td>48.964001</td>\n",
       "      <td>49.234001</td>\n",
       "      <td>15113000.0</td>\n",
       "      <td>49.234001</td>\n",
       "      <td>NaN</td>\n",
       "    </tr>\n",
       "    <tr>\n",
       "      <th>2017-03-14</th>\n",
       "      <td>51.624001</td>\n",
       "      <td>49.203999</td>\n",
       "      <td>49.222000</td>\n",
       "      <td>51.599998</td>\n",
       "      <td>37992000.0</td>\n",
       "      <td>51.599998</td>\n",
       "      <td>NaN</td>\n",
       "    </tr>\n",
       "    <tr>\n",
       "      <th>2017-03-15</th>\n",
       "      <td>52.200001</td>\n",
       "      <td>50.854000</td>\n",
       "      <td>51.400002</td>\n",
       "      <td>51.146000</td>\n",
       "      <td>26654000.0</td>\n",
       "      <td>51.146000</td>\n",
       "      <td>NaN</td>\n",
       "    </tr>\n",
       "    <tr>\n",
       "      <th>2017-03-16</th>\n",
       "      <td>53.150002</td>\n",
       "      <td>51.812000</td>\n",
       "      <td>52.480000</td>\n",
       "      <td>52.410000</td>\n",
       "      <td>35661000.0</td>\n",
       "      <td>52.410000</td>\n",
       "      <td>NaN</td>\n",
       "    </tr>\n",
       "    <tr>\n",
       "      <th>2017-03-17</th>\n",
       "      <td>53.066002</td>\n",
       "      <td>52.240002</td>\n",
       "      <td>52.799999</td>\n",
       "      <td>52.299999</td>\n",
       "      <td>32487500.0</td>\n",
       "      <td>52.299999</td>\n",
       "      <td>NaN</td>\n",
       "    </tr>\n",
       "    <tr>\n",
       "      <th>2017-03-20</th>\n",
       "      <td>52.910000</td>\n",
       "      <td>51.764000</td>\n",
       "      <td>52.119999</td>\n",
       "      <td>52.383999</td>\n",
       "      <td>18071500.0</td>\n",
       "      <td>52.383999</td>\n",
       "      <td>NaN</td>\n",
       "    </tr>\n",
       "    <tr>\n",
       "      <th>2017-03-21</th>\n",
       "      <td>52.959999</td>\n",
       "      <td>50.048000</td>\n",
       "      <td>52.566002</td>\n",
       "      <td>50.136002</td>\n",
       "      <td>34543000.0</td>\n",
       "      <td>50.136002</td>\n",
       "      <td>NaN</td>\n",
       "    </tr>\n",
       "    <tr>\n",
       "      <th>2017-03-22</th>\n",
       "      <td>51.014000</td>\n",
       "      <td>50.102001</td>\n",
       "      <td>50.312000</td>\n",
       "      <td>51.001999</td>\n",
       "      <td>20296500.0</td>\n",
       "      <td>51.001999</td>\n",
       "      <td>NaN</td>\n",
       "    </tr>\n",
       "    <tr>\n",
       "      <th>2017-03-23</th>\n",
       "      <td>51.534000</td>\n",
       "      <td>50.660000</td>\n",
       "      <td>51.077999</td>\n",
       "      <td>50.956001</td>\n",
       "      <td>16601000.0</td>\n",
       "      <td>50.956001</td>\n",
       "      <td>NaN</td>\n",
       "    </tr>\n",
       "    <tr>\n",
       "      <th>2017-03-24</th>\n",
       "      <td>52.778000</td>\n",
       "      <td>51.001999</td>\n",
       "      <td>51.139999</td>\n",
       "      <td>52.632000</td>\n",
       "      <td>28236500.0</td>\n",
       "      <td>52.632000</td>\n",
       "      <td>NaN</td>\n",
       "    </tr>\n",
       "    <tr>\n",
       "      <th>2017-03-27</th>\n",
       "      <td>54.113998</td>\n",
       "      <td>51.950001</td>\n",
       "      <td>52.119999</td>\n",
       "      <td>54.043999</td>\n",
       "      <td>31154000.0</td>\n",
       "      <td>54.043999</td>\n",
       "      <td>NaN</td>\n",
       "    </tr>\n",
       "    <tr>\n",
       "      <th>2017-03-28</th>\n",
       "      <td>56.136002</td>\n",
       "      <td>55.000000</td>\n",
       "      <td>55.403999</td>\n",
       "      <td>55.490002</td>\n",
       "      <td>39938000.0</td>\n",
       "      <td>55.490002</td>\n",
       "      <td>NaN</td>\n",
       "    </tr>\n",
       "    <tr>\n",
       "      <th>2017-03-29</th>\n",
       "      <td>55.919998</td>\n",
       "      <td>55.108002</td>\n",
       "      <td>55.667999</td>\n",
       "      <td>55.476002</td>\n",
       "      <td>18381000.0</td>\n",
       "      <td>55.476002</td>\n",
       "      <td>NaN</td>\n",
       "    </tr>\n",
       "    <tr>\n",
       "      <th>2017-03-30</th>\n",
       "      <td>56.400002</td>\n",
       "      <td>55.442001</td>\n",
       "      <td>55.608002</td>\n",
       "      <td>55.584000</td>\n",
       "      <td>20742000.0</td>\n",
       "      <td>55.584000</td>\n",
       "      <td>NaN</td>\n",
       "    </tr>\n",
       "    <tr>\n",
       "      <th>2017-03-31</th>\n",
       "      <td>55.936001</td>\n",
       "      <td>55.264000</td>\n",
       "      <td>55.745998</td>\n",
       "      <td>55.660000</td>\n",
       "      <td>16473000.0</td>\n",
       "      <td>55.660000</td>\n",
       "      <td>NaN</td>\n",
       "    </tr>\n",
       "    <tr>\n",
       "      <th>2017-04-03</th>\n",
       "      <td>59.799999</td>\n",
       "      <td>56.916000</td>\n",
       "      <td>57.380001</td>\n",
       "      <td>59.703999</td>\n",
       "      <td>69443000.0</td>\n",
       "      <td>59.703999</td>\n",
       "      <td>NaN</td>\n",
       "    </tr>\n",
       "    <tr>\n",
       "      <th>2017-04-04</th>\n",
       "      <td>60.962002</td>\n",
       "      <td>58.905998</td>\n",
       "      <td>59.377998</td>\n",
       "      <td>60.740002</td>\n",
       "      <td>50673000.0</td>\n",
       "      <td>60.740002</td>\n",
       "      <td>NaN</td>\n",
       "    </tr>\n",
       "    <tr>\n",
       "      <th>2017-04-05</th>\n",
       "      <td>60.976002</td>\n",
       "      <td>58.840000</td>\n",
       "      <td>60.408001</td>\n",
       "      <td>59.000000</td>\n",
       "      <td>39404500.0</td>\n",
       "      <td>59.000000</td>\n",
       "      <td>NaN</td>\n",
       "    </tr>\n",
       "    <tr>\n",
       "      <th>2017-04-06</th>\n",
       "      <td>60.388000</td>\n",
       "      <td>58.820000</td>\n",
       "      <td>59.375999</td>\n",
       "      <td>59.740002</td>\n",
       "      <td>27603000.0</td>\n",
       "      <td>59.740002</td>\n",
       "      <td>NaN</td>\n",
       "    </tr>\n",
       "    <tr>\n",
       "      <th>2017-04-07</th>\n",
       "      <td>60.537998</td>\n",
       "      <td>59.430000</td>\n",
       "      <td>59.500000</td>\n",
       "      <td>60.507999</td>\n",
       "      <td>22898000.0</td>\n",
       "      <td>60.507999</td>\n",
       "      <td>52.673400</td>\n",
       "    </tr>\n",
       "    <tr>\n",
       "      <th>2017-04-10</th>\n",
       "      <td>62.745998</td>\n",
       "      <td>61.742001</td>\n",
       "      <td>61.830002</td>\n",
       "      <td>62.478001</td>\n",
       "      <td>38322500.0</td>\n",
       "      <td>62.478001</td>\n",
       "      <td>53.079933</td>\n",
       "    </tr>\n",
       "  </tbody>\n",
       "</table>\n",
       "</div>"
      ],
      "text/plain": [
       "                 High        Low       Open      Close      Volume  Adj Close  \\\n",
       "Date                                                                            \n",
       "2017-02-27  49.672001  48.402000  49.633999  49.245998  57304000.0  49.245998   \n",
       "2017-02-28  50.200001  48.779999  48.838001  49.998001  30390500.0  49.998001   \n",
       "2017-03-01  50.970001  49.821999  50.835999  50.004002  24047500.0  50.004002   \n",
       "2017-03-02  50.655998  49.653999  49.942001  50.096001  16759000.0  50.096001   \n",
       "2017-03-03  50.380001  49.799999  50.147999  50.313999  14597000.0  50.313999   \n",
       "2017-03-06  50.340000  49.501999  49.582001  50.242001  16777500.0  50.242001   \n",
       "2017-03-07  50.778000  49.664001  50.383999  49.717999  17297500.0  49.717999   \n",
       "2017-03-08  50.014000  49.063999  49.400002  49.374001  18626000.0  49.374001   \n",
       "2017-03-09  49.731998  48.599998  49.526001  48.980000  19396500.0  48.980000   \n",
       "2017-03-10  49.299999  48.599998  49.242001  48.737999  15331500.0  48.737999   \n",
       "2017-03-13  49.369999  48.556000  48.964001  49.234001  15113000.0  49.234001   \n",
       "2017-03-14  51.624001  49.203999  49.222000  51.599998  37992000.0  51.599998   \n",
       "2017-03-15  52.200001  50.854000  51.400002  51.146000  26654000.0  51.146000   \n",
       "2017-03-16  53.150002  51.812000  52.480000  52.410000  35661000.0  52.410000   \n",
       "2017-03-17  53.066002  52.240002  52.799999  52.299999  32487500.0  52.299999   \n",
       "2017-03-20  52.910000  51.764000  52.119999  52.383999  18071500.0  52.383999   \n",
       "2017-03-21  52.959999  50.048000  52.566002  50.136002  34543000.0  50.136002   \n",
       "2017-03-22  51.014000  50.102001  50.312000  51.001999  20296500.0  51.001999   \n",
       "2017-03-23  51.534000  50.660000  51.077999  50.956001  16601000.0  50.956001   \n",
       "2017-03-24  52.778000  51.001999  51.139999  52.632000  28236500.0  52.632000   \n",
       "2017-03-27  54.113998  51.950001  52.119999  54.043999  31154000.0  54.043999   \n",
       "2017-03-28  56.136002  55.000000  55.403999  55.490002  39938000.0  55.490002   \n",
       "2017-03-29  55.919998  55.108002  55.667999  55.476002  18381000.0  55.476002   \n",
       "2017-03-30  56.400002  55.442001  55.608002  55.584000  20742000.0  55.584000   \n",
       "2017-03-31  55.936001  55.264000  55.745998  55.660000  16473000.0  55.660000   \n",
       "2017-04-03  59.799999  56.916000  57.380001  59.703999  69443000.0  59.703999   \n",
       "2017-04-04  60.962002  58.905998  59.377998  60.740002  50673000.0  60.740002   \n",
       "2017-04-05  60.976002  58.840000  60.408001  59.000000  39404500.0  59.000000   \n",
       "2017-04-06  60.388000  58.820000  59.375999  59.740002  27603000.0  59.740002   \n",
       "2017-04-07  60.537998  59.430000  59.500000  60.507999  22898000.0  60.507999   \n",
       "2017-04-10  62.745998  61.742001  61.830002  62.478001  38322500.0  62.478001   \n",
       "\n",
       "            Open:30 days rolling  \n",
       "Date                              \n",
       "2017-02-27                   NaN  \n",
       "2017-02-28                   NaN  \n",
       "2017-03-01                   NaN  \n",
       "2017-03-02                   NaN  \n",
       "2017-03-03                   NaN  \n",
       "2017-03-06                   NaN  \n",
       "2017-03-07                   NaN  \n",
       "2017-03-08                   NaN  \n",
       "2017-03-09                   NaN  \n",
       "2017-03-10                   NaN  \n",
       "2017-03-13                   NaN  \n",
       "2017-03-14                   NaN  \n",
       "2017-03-15                   NaN  \n",
       "2017-03-16                   NaN  \n",
       "2017-03-17                   NaN  \n",
       "2017-03-20                   NaN  \n",
       "2017-03-21                   NaN  \n",
       "2017-03-22                   NaN  \n",
       "2017-03-23                   NaN  \n",
       "2017-03-24                   NaN  \n",
       "2017-03-27                   NaN  \n",
       "2017-03-28                   NaN  \n",
       "2017-03-29                   NaN  \n",
       "2017-03-30                   NaN  \n",
       "2017-03-31                   NaN  \n",
       "2017-04-03                   NaN  \n",
       "2017-04-04                   NaN  \n",
       "2017-04-05                   NaN  \n",
       "2017-04-06                   NaN  \n",
       "2017-04-07             52.673400  \n",
       "2017-04-10             53.079933  "
      ]
     },
     "execution_count": 82,
     "metadata": {},
     "output_type": "execute_result"
    }
   ],
   "source": [
    "df_tesla.head(31)"
   ]
  },
  {
   "cell_type": "code",
   "execution_count": 86,
   "metadata": {},
   "outputs": [
    {
     "data": {
      "text/plain": [
       "<matplotlib.axes._subplots.AxesSubplot at 0x24b55c28908>"
      ]
     },
     "execution_count": 86,
     "metadata": {},
     "output_type": "execute_result"
    },
    {
     "data": {
      "image/png": "[encoded data removed]",
      "text/plain": [
       "<Figure size 1440x360 with 1 Axes>"
      ]
     },
     "metadata": {
      "needs_background": "light"
     },
     "output_type": "display_data"
    }
   ],
   "source": [
    "df_tesla[['Open', 'Open:30 days rolling']].plot(figsize=(20,5))"
   ]
  },
  {
   "cell_type": "markdown",
   "metadata": {},
   "source": [
    "## Questions\n",
    "1. Read the Microsoft data using Pandas Data reader\n",
    "2. Get the maximum price of the stock from 2017 to 2022\n",
    "3. Which is the date of the hightest price of the stock?\n",
    "4. Which is the date of the lowest price of the stock?"
   ]
  },
  {
   "cell_type": "code",
   "execution_count": 87,
   "metadata": {},
   "outputs": [],
   "source": [
    "df_ms = pdr.get_data_yahoo('MSFT')"
   ]
  },
  {
   "cell_type": "code",
   "execution_count": 89,
   "metadata": {},
   "outputs": [
    {
     "data": {
      "text/html": [
       "<div>\n",
       "<style scoped>\n",
       "    .dataframe tbody tr th:only-of-type {\n",
       "        vertical-align: middle;\n",
       "    }\n",
       "\n",
       "    .dataframe tbody tr th {\n",
       "        vertical-align: top;\n",
       "    }\n",
       "\n",
       "    .dataframe thead th {\n",
       "        text-align: right;\n",
       "    }\n",
       "</style>\n",
       "<table border=\"1\" class=\"dataframe\">\n",
       "  <thead>\n",
       "    <tr style=\"text-align: right;\">\n",
       "      <th></th>\n",
       "      <th>High</th>\n",
       "      <th>Low</th>\n",
       "      <th>Open</th>\n",
       "      <th>Close</th>\n",
       "      <th>Volume</th>\n",
       "      <th>Adj Close</th>\n",
       "    </tr>\n",
       "    <tr>\n",
       "      <th>Date</th>\n",
       "      <th></th>\n",
       "      <th></th>\n",
       "      <th></th>\n",
       "      <th></th>\n",
       "      <th></th>\n",
       "      <th></th>\n",
       "    </tr>\n",
       "  </thead>\n",
       "  <tbody>\n",
       "    <tr>\n",
       "      <th>2017-02-27</th>\n",
       "      <td>64.540001</td>\n",
       "      <td>64.050003</td>\n",
       "      <td>64.540001</td>\n",
       "      <td>64.230003</td>\n",
       "      <td>15871500.0</td>\n",
       "      <td>59.957733</td>\n",
       "    </tr>\n",
       "    <tr>\n",
       "      <th>2017-02-28</th>\n",
       "      <td>64.199997</td>\n",
       "      <td>63.759998</td>\n",
       "      <td>64.080002</td>\n",
       "      <td>63.980000</td>\n",
       "      <td>23239800.0</td>\n",
       "      <td>59.724365</td>\n",
       "    </tr>\n",
       "    <tr>\n",
       "      <th>2017-03-01</th>\n",
       "      <td>64.989998</td>\n",
       "      <td>64.019997</td>\n",
       "      <td>64.129997</td>\n",
       "      <td>64.940002</td>\n",
       "      <td>26937500.0</td>\n",
       "      <td>60.620502</td>\n",
       "    </tr>\n",
       "    <tr>\n",
       "      <th>2017-03-02</th>\n",
       "      <td>64.750000</td>\n",
       "      <td>63.880001</td>\n",
       "      <td>64.690002</td>\n",
       "      <td>64.010002</td>\n",
       "      <td>24539600.0</td>\n",
       "      <td>59.752357</td>\n",
       "    </tr>\n",
       "    <tr>\n",
       "      <th>2017-03-03</th>\n",
       "      <td>64.279999</td>\n",
       "      <td>63.619999</td>\n",
       "      <td>63.990002</td>\n",
       "      <td>64.250000</td>\n",
       "      <td>18135900.0</td>\n",
       "      <td>59.976387</td>\n",
       "    </tr>\n",
       "  </tbody>\n",
       "</table>\n",
       "</div>"
      ],
      "text/plain": [
       "                 High        Low       Open      Close      Volume  Adj Close\n",
       "Date                                                                         \n",
       "2017-02-27  64.540001  64.050003  64.540001  64.230003  15871500.0  59.957733\n",
       "2017-02-28  64.199997  63.759998  64.080002  63.980000  23239800.0  59.724365\n",
       "2017-03-01  64.989998  64.019997  64.129997  64.940002  26937500.0  60.620502\n",
       "2017-03-02  64.750000  63.880001  64.690002  64.010002  24539600.0  59.752357\n",
       "2017-03-03  64.279999  63.619999  63.990002  64.250000  18135900.0  59.976387"
      ]
     },
     "execution_count": 89,
     "metadata": {},
     "output_type": "execute_result"
    }
   ],
   "source": [
    "df_ms.head()"
   ]
  },
  {
   "cell_type": "code",
   "execution_count": 92,
   "metadata": {},
   "outputs": [
    {
     "data": {
      "text/plain": [
       "Date\n",
       "2017-12-31     87.500000\n",
       "2018-12-31    116.180000\n",
       "2019-12-31    159.550003\n",
       "2020-12-31    232.860001\n",
       "2021-12-31    349.670013\n",
       "2022-12-31    338.000000\n",
       "Freq: A-DEC, Name: High, dtype: float64"
      ]
     },
     "execution_count": 92,
     "metadata": {},
     "output_type": "execute_result"
    }
   ],
   "source": [
    "#the maximum price of the stock from 2017 to 2022\n",
    "df_ms['High'].resample(rule='A').max()"
   ]
  },
  {
   "cell_type": "code",
   "execution_count": 100,
   "metadata": {},
   "outputs": [
    {
     "data": {
      "text/plain": [
       "0   2021-11-22\n",
       "Name: Date, dtype: datetime64[ns]"
      ]
     },
     "execution_count": 100,
     "metadata": {},
     "output_type": "execute_result"
    }
   ],
   "source": [
    "df_ms[df_ms['High'] == df_ms['High'].max()].reset_index()['Date']"
   ]
  },
  {
   "cell_type": "code",
   "execution_count": 101,
   "metadata": {},
   "outputs": [
    {
     "data": {
      "text/plain": [
       "0   2017-02-28\n",
       "Name: Date, dtype: datetime64[ns]"
      ]
     },
     "execution_count": 101,
     "metadata": {},
     "output_type": "execute_result"
    }
   ],
   "source": [
    "df_ms[df_ms['High'] == df_ms['High'].min()].reset_index()['Date']"
   ]
  },
  {
   "cell_type": "code",
   "execution_count": null,
   "metadata": {},
   "outputs": [],
   "source": []
  }
 ],
 "metadata": {
  "kernelspec": {
   "display_name": "Python 3",
   "language": "python",
   "name": "python3"
  },
  "language_info": {
   "codemirror_mode": {
    "name": "ipython",
    "version": 3
   },
   "file_extension": ".py",
   "mimetype": "text/x-python",
   "name": "python",
   "nbconvert_exporter": "python",
   "pygments_lexer": "ipython3",
   "version": "3.7.6"
  }
 },
 "nbformat": 4,
 "nbformat_minor": 4
}
